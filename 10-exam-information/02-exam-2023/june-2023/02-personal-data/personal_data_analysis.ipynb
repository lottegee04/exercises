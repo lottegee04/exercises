{
 "cells": [
  {
   "attachments": {},
   "cell_type": "markdown",
   "metadata": {},
   "source": [
    "Je krijgt van ons een csv bestand met de naam “persoonsgegevens.csv”. \n",
    "Het bestand bevat informatie van personen:\n",
    "-\tKolom 1: het rijksregisternummer van de persoon\n",
    "-\tKolom 2: de familienaam van de persoon\n",
    "-\tKolom 3: de voornaam van de persoon\n",
    "\n",
    "Een rijksregisternummer heeft volgend formaat: \n",
    "-\t3 keer 2 cijfers onderling gescheiden door een punt; dit is de geboortedatum van de persoon in de vorm jj.mm.dd (eerste twee cijfers zijn de 2 laatste cijfers van het geboortejaar, dan een punt, dan twee cijfers overeenkomstig de geboortemaand, dan een punt en dan nog eens twee cijfers overeenkomstig de geboortedag)\n",
    "-\tEen streepje “-“\n",
    "-\tDrie cijfers: dit is volgnummer om personen die op dezelfde dag geboren zijn van elkaar te onderscheiden; vrouwen krijgen een even volgnummer, mannen een oneven volgnummer\n",
    "-\tEen punt\n",
    "-\tTwee cijfers die als controlegetal werken; hoe deze controle gebeurd is voor deze opgave niet van belang\n",
    "Een vrouw geboren op 28 juli 1994 zou volgend rijksregisternummer kunnen hebben: \n",
    "94.07.28-124.89.\n",
    "We wensen een applicatie te maken om een overzicht te creëren van het aantal geboortes per dag van de week. In dit overzicht worden de dagen van de week voorgesteld met de Engelstalige benamingen, dus van \"Monday\" tot \"Sunday\".\n",
    "Vul in volgende de nodige stukjes code toe."
   ]
  },
  {
   "attachments": {},
   "cell_type": "markdown",
   "metadata": {},
   "source": [
    "Lees het bestand \"personal_data.csv\" in een panda Dataframe met de naam \"data\""
   ]
  },
  {
   "cell_type": "code",
   "execution_count": 1,
   "metadata": {},
   "outputs": [],
   "source": [
    "import pandas as pd\n",
    "import numpy as np\n",
    "import matplotlib.pyplot as plt\n"
   ]
  },
  {
   "attachments": {},
   "cell_type": "markdown",
   "metadata": {},
   "source": [
    "Controleer of dit goed gedaan is door een aantal van de eerste rijen te tonen."
   ]
  },
  {
   "cell_type": "code",
   "execution_count": 2,
   "metadata": {},
   "outputs": [
    {
     "data": {
      "text/html": [
       "<div>\n",
       "<style scoped>\n",
       "    .dataframe tbody tr th:only-of-type {\n",
       "        vertical-align: middle;\n",
       "    }\n",
       "\n",
       "    .dataframe tbody tr th {\n",
       "        vertical-align: top;\n",
       "    }\n",
       "\n",
       "    .dataframe thead th {\n",
       "        text-align: right;\n",
       "    }\n",
       "</style>\n",
       "<table border=\"1\" class=\"dataframe\">\n",
       "  <thead>\n",
       "    <tr style=\"text-align: right;\">\n",
       "      <th></th>\n",
       "      <th>rijksregisternummer</th>\n",
       "      <th>naam</th>\n",
       "      <th>voornaam</th>\n",
       "    </tr>\n",
       "  </thead>\n",
       "  <tbody>\n",
       "    <tr>\n",
       "      <th>0</th>\n",
       "      <td>94.07.25-124.89</td>\n",
       "      <td>Lemmens</td>\n",
       "      <td>Elke</td>\n",
       "    </tr>\n",
       "    <tr>\n",
       "      <th>1</th>\n",
       "      <td>96.99.11-133.71</td>\n",
       "      <td>Janssens</td>\n",
       "      <td>Jef</td>\n",
       "    </tr>\n",
       "    <tr>\n",
       "      <th>2</th>\n",
       "      <td>02.122.12-122.32</td>\n",
       "      <td>Elen</td>\n",
       "      <td>Marieke</td>\n",
       "    </tr>\n",
       "    <tr>\n",
       "      <th>3</th>\n",
       "      <td>99.07.01-005.56</td>\n",
       "      <td>Hendriks</td>\n",
       "      <td>Hendrik</td>\n",
       "    </tr>\n",
       "    <tr>\n",
       "      <th>4</th>\n",
       "      <td>93.07.25-1248.89</td>\n",
       "      <td>Lemmens</td>\n",
       "      <td>Elke</td>\n",
       "    </tr>\n",
       "  </tbody>\n",
       "</table>\n",
       "</div>"
      ],
      "text/plain": [
       "  rijksregisternummer      naam voornaam\n",
       "0     94.07.25-124.89   Lemmens     Elke\n",
       "1     96.99.11-133.71  Janssens      Jef\n",
       "2    02.122.12-122.32      Elen  Marieke\n",
       "3     99.07.01-005.56  Hendriks  Hendrik\n",
       "4    93.07.25-1248.89   Lemmens     Elke"
      ]
     },
     "execution_count": 2,
     "metadata": {},
     "output_type": "execute_result"
    }
   ],
   "source": [
    "df = pd.read_csv(\"personal_data.csv\", sep=\";\") #\"sep\" vervangen door \"delimeter\" werkt ook\n",
    "df.head()"
   ]
  },
  {
   "attachments": {},
   "cell_type": "markdown",
   "metadata": {},
   "source": [
    "Wijzig de rijksregisternummers die niet aan het juiste formaat voldoen (beschouw voorlopig enkel als goed formaat : 2cijfers.2cijfers.2cijfers-3cijfers.2cijfers) door None.\n",
    "Toon opnieuw de eerste rijen om na te gaan of dit gelukt is."
   ]
  },
  {
   "cell_type": "code",
   "execution_count": 3,
   "metadata": {},
   "outputs": [
    {
     "data": {
      "text/html": [
       "<div>\n",
       "<style scoped>\n",
       "    .dataframe tbody tr th:only-of-type {\n",
       "        vertical-align: middle;\n",
       "    }\n",
       "\n",
       "    .dataframe tbody tr th {\n",
       "        vertical-align: top;\n",
       "    }\n",
       "\n",
       "    .dataframe thead th {\n",
       "        text-align: right;\n",
       "    }\n",
       "</style>\n",
       "<table border=\"1\" class=\"dataframe\">\n",
       "  <thead>\n",
       "    <tr style=\"text-align: right;\">\n",
       "      <th></th>\n",
       "      <th>rijksregisternummer</th>\n",
       "      <th>naam</th>\n",
       "      <th>voornaam</th>\n",
       "    </tr>\n",
       "  </thead>\n",
       "  <tbody>\n",
       "    <tr>\n",
       "      <th>0</th>\n",
       "      <td>94.07.25-124.89</td>\n",
       "      <td>Lemmens</td>\n",
       "      <td>Elke</td>\n",
       "    </tr>\n",
       "    <tr>\n",
       "      <th>1</th>\n",
       "      <td>96.99.11-133.71</td>\n",
       "      <td>Janssens</td>\n",
       "      <td>Jef</td>\n",
       "    </tr>\n",
       "    <tr>\n",
       "      <th>2</th>\n",
       "      <td>NaN</td>\n",
       "      <td>Elen</td>\n",
       "      <td>Marieke</td>\n",
       "    </tr>\n",
       "    <tr>\n",
       "      <th>3</th>\n",
       "      <td>99.07.01-005.56</td>\n",
       "      <td>Hendriks</td>\n",
       "      <td>Hendrik</td>\n",
       "    </tr>\n",
       "    <tr>\n",
       "      <th>4</th>\n",
       "      <td>NaN</td>\n",
       "      <td>Lemmens</td>\n",
       "      <td>Elke</td>\n",
       "    </tr>\n",
       "    <tr>\n",
       "      <th>5</th>\n",
       "      <td>00.10.11-133.71</td>\n",
       "      <td>Janssens</td>\n",
       "      <td>Jef</td>\n",
       "    </tr>\n",
       "    <tr>\n",
       "      <th>6</th>\n",
       "      <td>NaN</td>\n",
       "      <td>Elen</td>\n",
       "      <td>Marieke</td>\n",
       "    </tr>\n",
       "    <tr>\n",
       "      <th>7</th>\n",
       "      <td>89.07.01-005.56</td>\n",
       "      <td>Hendriks</td>\n",
       "      <td>Hendrik</td>\n",
       "    </tr>\n",
       "    <tr>\n",
       "      <th>8</th>\n",
       "      <td>99.07.25-124.89</td>\n",
       "      <td>Lemmens</td>\n",
       "      <td>Elke</td>\n",
       "    </tr>\n",
       "    <tr>\n",
       "      <th>9</th>\n",
       "      <td>95.10.11-133.71</td>\n",
       "      <td>Janssens</td>\n",
       "      <td>Jef</td>\n",
       "    </tr>\n",
       "    <tr>\n",
       "      <th>10</th>\n",
       "      <td>12.12.12-122.32</td>\n",
       "      <td>Elen</td>\n",
       "      <td>Marieke</td>\n",
       "    </tr>\n",
       "    <tr>\n",
       "      <th>11</th>\n",
       "      <td>19.07.01-005.56</td>\n",
       "      <td>Hendriks</td>\n",
       "      <td>Hendrik</td>\n",
       "    </tr>\n",
       "    <tr>\n",
       "      <th>12</th>\n",
       "      <td>93.07.25-124.89</td>\n",
       "      <td>Lemmens</td>\n",
       "      <td>Elke</td>\n",
       "    </tr>\n",
       "    <tr>\n",
       "      <th>13</th>\n",
       "      <td>87.10.11-133.71</td>\n",
       "      <td>Janssens</td>\n",
       "      <td>Jef</td>\n",
       "    </tr>\n",
       "    <tr>\n",
       "      <th>14</th>\n",
       "      <td>12.12.22-122.32</td>\n",
       "      <td>Elen</td>\n",
       "      <td>Marieke</td>\n",
       "    </tr>\n",
       "    <tr>\n",
       "      <th>15</th>\n",
       "      <td>39.07.01-005.56</td>\n",
       "      <td>Hendriks</td>\n",
       "      <td>Hendrik</td>\n",
       "    </tr>\n",
       "    <tr>\n",
       "      <th>16</th>\n",
       "      <td>04.07.25-124.89</td>\n",
       "      <td>Lemmens</td>\n",
       "      <td>Elke</td>\n",
       "    </tr>\n",
       "    <tr>\n",
       "      <th>17</th>\n",
       "      <td>06.10.11-133.71</td>\n",
       "      <td>Janssens</td>\n",
       "      <td>Jef</td>\n",
       "    </tr>\n",
       "    <tr>\n",
       "      <th>18</th>\n",
       "      <td>22.12.12-122.32</td>\n",
       "      <td>Elen</td>\n",
       "      <td>Marieke</td>\n",
       "    </tr>\n",
       "    <tr>\n",
       "      <th>19</th>\n",
       "      <td>49.07.01-005.56</td>\n",
       "      <td>Hendriks</td>\n",
       "      <td>Hendrik</td>\n",
       "    </tr>\n",
       "    <tr>\n",
       "      <th>20</th>\n",
       "      <td>43.07.25-124.89</td>\n",
       "      <td>Lemmens</td>\n",
       "      <td>Elke</td>\n",
       "    </tr>\n",
       "    <tr>\n",
       "      <th>21</th>\n",
       "      <td>01.10.11-133.71</td>\n",
       "      <td>Janssens</td>\n",
       "      <td>Jef</td>\n",
       "    </tr>\n",
       "    <tr>\n",
       "      <th>22</th>\n",
       "      <td>NaN</td>\n",
       "      <td>Elen</td>\n",
       "      <td>Marieke</td>\n",
       "    </tr>\n",
       "    <tr>\n",
       "      <th>23</th>\n",
       "      <td>88.07.01-005.56</td>\n",
       "      <td>Hendriks</td>\n",
       "      <td>Hendrik</td>\n",
       "    </tr>\n",
       "    <tr>\n",
       "      <th>24</th>\n",
       "      <td>90.07.25-124.89</td>\n",
       "      <td>Lemmens</td>\n",
       "      <td>Elke</td>\n",
       "    </tr>\n",
       "    <tr>\n",
       "      <th>25</th>\n",
       "      <td>25.10.11-133.71</td>\n",
       "      <td>Janssens</td>\n",
       "      <td>Jef</td>\n",
       "    </tr>\n",
       "    <tr>\n",
       "      <th>26</th>\n",
       "      <td>14.12.12-122.32</td>\n",
       "      <td>Elen</td>\n",
       "      <td>Marieke</td>\n",
       "    </tr>\n",
       "    <tr>\n",
       "      <th>27</th>\n",
       "      <td>79.07.01-005.56</td>\n",
       "      <td>Hendriks</td>\n",
       "      <td>Hendrik</td>\n",
       "    </tr>\n",
       "    <tr>\n",
       "      <th>28</th>\n",
       "      <td>73.07.25-124.88</td>\n",
       "      <td>Lemmens</td>\n",
       "      <td>Elke</td>\n",
       "    </tr>\n",
       "    <tr>\n",
       "      <th>29</th>\n",
       "      <td>77.10.11-133.71</td>\n",
       "      <td>Janssens</td>\n",
       "      <td>Jef</td>\n",
       "    </tr>\n",
       "    <tr>\n",
       "      <th>30</th>\n",
       "      <td>62.12.22-122.32</td>\n",
       "      <td>Elen</td>\n",
       "      <td>Marieke</td>\n",
       "    </tr>\n",
       "    <tr>\n",
       "      <th>31</th>\n",
       "      <td>49.07.01-005.56</td>\n",
       "      <td>Hendriks</td>\n",
       "      <td>Hendrik</td>\n",
       "    </tr>\n",
       "  </tbody>\n",
       "</table>\n",
       "</div>"
      ],
      "text/plain": [
       "   rijksregisternummer      naam voornaam\n",
       "0      94.07.25-124.89   Lemmens     Elke\n",
       "1      96.99.11-133.71  Janssens      Jef\n",
       "2                  NaN      Elen  Marieke\n",
       "3      99.07.01-005.56  Hendriks  Hendrik\n",
       "4                  NaN   Lemmens     Elke\n",
       "5      00.10.11-133.71  Janssens      Jef\n",
       "6                  NaN      Elen  Marieke\n",
       "7      89.07.01-005.56  Hendriks  Hendrik\n",
       "8      99.07.25-124.89   Lemmens     Elke\n",
       "9      95.10.11-133.71  Janssens      Jef\n",
       "10     12.12.12-122.32      Elen  Marieke\n",
       "11     19.07.01-005.56  Hendriks  Hendrik\n",
       "12     93.07.25-124.89   Lemmens     Elke\n",
       "13     87.10.11-133.71  Janssens      Jef\n",
       "14     12.12.22-122.32      Elen  Marieke\n",
       "15     39.07.01-005.56  Hendriks  Hendrik\n",
       "16     04.07.25-124.89   Lemmens     Elke\n",
       "17     06.10.11-133.71  Janssens      Jef\n",
       "18     22.12.12-122.32      Elen  Marieke\n",
       "19     49.07.01-005.56  Hendriks  Hendrik\n",
       "20     43.07.25-124.89   Lemmens     Elke\n",
       "21     01.10.11-133.71  Janssens      Jef\n",
       "22                 NaN      Elen  Marieke\n",
       "23     88.07.01-005.56  Hendriks  Hendrik\n",
       "24     90.07.25-124.89   Lemmens     Elke\n",
       "25     25.10.11-133.71  Janssens      Jef\n",
       "26     14.12.12-122.32      Elen  Marieke\n",
       "27     79.07.01-005.56  Hendriks  Hendrik\n",
       "28     73.07.25-124.88   Lemmens     Elke\n",
       "29     77.10.11-133.71  Janssens      Jef\n",
       "30     62.12.22-122.32      Elen  Marieke\n",
       "31     49.07.01-005.56  Hendriks  Hendrik"
      ]
     },
     "execution_count": 3,
     "metadata": {},
     "output_type": "execute_result"
    }
   ],
   "source": [
    "import re\n",
    "pattern = r'(\\d{2}\\.){2}\\d{2}-\\d{3}\\.\\d{2}'\n",
    "lst =[not bool(re.fullmatch(pattern, str(rijknr))) for rijknr in df[\"rijksregisternummer\"]]\n",
    "df.loc[lst,\"rijksregisternummer\"] = np.nan\n",
    "df\n",
    "\n"
   ]
  },
  {
   "attachments": {},
   "cell_type": "markdown",
   "metadata": {},
   "source": [
    "Wijzig de rijksregisternummers waarvan de eerste 8 tekens niet overeenkomen met een datum door None.\n",
    "Toon opnieuw de eerste rijen om na te gaan of dit gelukt is."
   ]
  },
  {
   "cell_type": "code",
   "execution_count": null,
   "metadata": {},
   "outputs": [],
   "source": []
  },
  {
   "attachments": {},
   "cell_type": "markdown",
   "metadata": {},
   "source": [
    "Schrap de rijen in het dataframe waarin de waarde None in één van de kolommen voorkomt.\n",
    "Toon opnieuw de eerste rijen om na te gaan of dit gelukt is."
   ]
  },
  {
   "cell_type": "code",
   "execution_count": null,
   "metadata": {},
   "outputs": [],
   "source": []
  },
  {
   "attachments": {},
   "cell_type": "markdown",
   "metadata": {},
   "source": [
    "Wijzig het dataframe door een kolom toe te voegen met de naam “geboortedatum” die de geboortedatum als datetime object voorstelt.\n",
    "Toon opnieuw de eerste rijen om na te gaan of dit gelukt is."
   ]
  },
  {
   "cell_type": "code",
   "execution_count": null,
   "metadata": {},
   "outputs": [],
   "source": []
  },
  {
   "attachments": {},
   "cell_type": "markdown",
   "metadata": {},
   "source": [
    "Wijzig het dataframe door een kolom toe te voegen met de naam “dag” die de dag in de week voorstelt dat de persoon geboren is; de dagen zijn de Engelstalige namen voor de dagen.\n",
    "Toon opnieuw de eerste rijen om na te gaan of dit gelukt is."
   ]
  },
  {
   "cell_type": "code",
   "execution_count": null,
   "metadata": {},
   "outputs": [],
   "source": []
  },
  {
   "attachments": {},
   "cell_type": "markdown",
   "metadata": {},
   "source": [
    "Voer volgend stukje code uit."
   ]
  },
  {
   "cell_type": "code",
   "execution_count": 4,
   "metadata": {},
   "outputs": [
    {
     "ename": "NameError",
     "evalue": "name 'data' is not defined",
     "output_type": "error",
     "traceback": [
      "\u001b[1;31m---------------------------------------------------------------------------\u001b[0m",
      "\u001b[1;31mNameError\u001b[0m                                 Traceback (most recent call last)",
      "Cell \u001b[1;32mIn[4], line 1\u001b[0m\n\u001b[1;32m----> 1\u001b[0m data[\u001b[38;5;124m\"\u001b[39m\u001b[38;5;124mdag\u001b[39m\u001b[38;5;124m\"\u001b[39m] \u001b[38;5;241m=\u001b[39m pd\u001b[38;5;241m.\u001b[39mCategorical(\u001b[43mdata\u001b[49m[\u001b[38;5;124m\"\u001b[39m\u001b[38;5;124mdag\u001b[39m\u001b[38;5;124m\"\u001b[39m],[\u001b[38;5;124m\"\u001b[39m\u001b[38;5;124mMonday\u001b[39m\u001b[38;5;124m\"\u001b[39m,\u001b[38;5;124m\"\u001b[39m\u001b[38;5;124mTuesday\u001b[39m\u001b[38;5;124m\"\u001b[39m, \u001b[38;5;124m\"\u001b[39m\u001b[38;5;124mWednesday\u001b[39m\u001b[38;5;124m\"\u001b[39m, \u001b[38;5;124m\"\u001b[39m\u001b[38;5;124mThursday\u001b[39m\u001b[38;5;124m\"\u001b[39m,\u001b[38;5;124m\"\u001b[39m\u001b[38;5;124mFriday\u001b[39m\u001b[38;5;124m\"\u001b[39m,\u001b[38;5;124m\"\u001b[39m\u001b[38;5;124mSaturday\u001b[39m\u001b[38;5;124m\"\u001b[39m,\u001b[38;5;124m\"\u001b[39m\u001b[38;5;124mSunday\u001b[39m\u001b[38;5;124m\"\u001b[39m])\n\u001b[0;32m      2\u001b[0m data\u001b[38;5;241m.\u001b[39mhead()\n",
      "\u001b[1;31mNameError\u001b[0m: name 'data' is not defined"
     ]
    }
   ],
   "source": [
    "data[\"dag\"] = pd.Categorical(data[\"dag\"],[\"Monday\",\"Tuesday\", \"Wednesday\", \"Thursday\",\"Friday\",\"Saturday\",\"Sunday\"])\n",
    "data.head()"
   ]
  },
  {
   "attachments": {},
   "cell_type": "markdown",
   "metadata": {},
   "source": [
    "Toon een visueel overzicht in de vorm van een histogram van het aantal geboortes per dag van de week. "
   ]
  },
  {
   "cell_type": "code",
   "execution_count": 6,
   "metadata": {},
   "outputs": [
    {
     "data": {
      "text/plain": [
       "<Axes: ylabel='Count'>"
      ]
     },
     "execution_count": 6,
     "metadata": {},
     "output_type": "execute_result"
    },
    {
     "data": {
      "image/png": "[encoded data removed]",
      "text/plain": [
       "<Figure size 640x480 with 1 Axes>"
      ]
     },
     "metadata": {},
     "output_type": "display_data"
    }
   ],
   "source": [
    "import seaborn as sb\n",
    "sb.histplot(data = 'dag')"
   ]
  }
 ],
 "metadata": {
  "kernelspec": {
   "display_name": "base",
   "language": "python",
   "name": "python3"
  },
  "language_info": {
   "codemirror_mode": {
    "name": "ipython",
    "version": 3
   },
   "file_extension": ".py",
   "mimetype": "text/x-python",
   "name": "python",
   "nbconvert_exporter": "python",
   "pygments_lexer": "ipython3",
   "version": "3.12.0"
  },
  "orig_nbformat": 4
 },
 "nbformat": 4,
 "nbformat_minor": 2
}
